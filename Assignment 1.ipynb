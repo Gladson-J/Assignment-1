{
 "cells": [
  {
   "cell_type": "code",
   "execution_count": 1,
   "id": "c73eac29",
   "metadata": {},
   "outputs": [],
   "source": [
    "import cv2\n",
    "import numpy as nump"
   ]
  },
  {
   "cell_type": "code",
   "execution_count": 3,
   "id": "82951e55",
   "metadata": {},
   "outputs": [],
   "source": [
    "img=cv2.imread(\"tree1.jpg\")"
   ]
  },
  {
   "cell_type": "code",
   "execution_count": 15,
   "id": "d021e4fe",
   "metadata": {},
   "outputs": [
    {
     "data": {
      "text/plain": [
       "-1"
      ]
     },
     "execution_count": 15,
     "metadata": {},
     "output_type": "execute_result"
    }
   ],
   "source": [
    "cv2.imshow(\"Tree\",img)\n",
    "cv2.waitKey(0)"
   ]
  },
  {
   "cell_type": "markdown",
   "id": "ff439890",
   "metadata": {},
   "source": [
    "#   Grey scale"
   ]
  },
  {
   "cell_type": "code",
   "execution_count": 5,
   "id": "8f55d285",
   "metadata": {},
   "outputs": [],
   "source": [
    "grey=cv2.imread(\"tree1.jpg\",0)"
   ]
  },
  {
   "cell_type": "code",
   "execution_count": 6,
   "id": "9a838df0",
   "metadata": {},
   "outputs": [
    {
     "data": {
      "text/plain": [
       "-1"
      ]
     },
     "execution_count": 6,
     "metadata": {},
     "output_type": "execute_result"
    }
   ],
   "source": [
    "cv2.imshow(\"Tree\",grey)\n",
    "cv2.waitKey(0)"
   ]
  },
  {
   "cell_type": "code",
   "execution_count": 8,
   "id": "430a1d85",
   "metadata": {},
   "outputs": [
    {
     "data": {
      "text/plain": [
       "True"
      ]
     },
     "execution_count": 8,
     "metadata": {},
     "output_type": "execute_result"
    }
   ],
   "source": [
    "cv2.imwrite(\"C:/Users/aedpu/Gladson-cse/Assignment-1/grey-image.jpg\",grey)"
   ]
  },
  {
   "cell_type": "markdown",
   "id": "6b4ade7d",
   "metadata": {},
   "source": [
    "#   Image shape"
   ]
  },
  {
   "cell_type": "code",
   "execution_count": 9,
   "id": "5eda34fe",
   "metadata": {},
   "outputs": [],
   "source": [
    "shape=img.shape"
   ]
  },
  {
   "cell_type": "code",
   "execution_count": 10,
   "id": "20a9eaf0",
   "metadata": {},
   "outputs": [
    {
     "name": "stdout",
     "output_type": "stream",
     "text": [
      "(480, 771, 3)\n"
     ]
    }
   ],
   "source": [
    "print(shape)"
   ]
  },
  {
   "cell_type": "markdown",
   "id": "e28bde3d",
   "metadata": {},
   "source": [
    "#  Image size"
   ]
  },
  {
   "cell_type": "code",
   "execution_count": 11,
   "id": "eee68a15",
   "metadata": {},
   "outputs": [],
   "source": [
    "sz=img.size"
   ]
  },
  {
   "cell_type": "code",
   "execution_count": 12,
   "id": "ad2e381b",
   "metadata": {},
   "outputs": [
    {
     "name": "stdout",
     "output_type": "stream",
     "text": [
      "1110240\n"
     ]
    }
   ],
   "source": [
    "print(sz)"
   ]
  },
  {
   "cell_type": "markdown",
   "id": "a3a987e4",
   "metadata": {},
   "source": [
    "#  Splitting"
   ]
  },
  {
   "cell_type": "code",
   "execution_count": 33,
   "id": "68390284",
   "metadata": {},
   "outputs": [
    {
     "data": {
      "text/plain": [
       "-1"
      ]
     },
     "execution_count": 33,
     "metadata": {},
     "output_type": "execute_result"
    }
   ],
   "source": [
    "b,g,r=cv2.split(img)\n",
    "cv2.imshow(\"b\",b)\n",
    "cv2.waitKey(0)\n",
    "cv2.imshow(\"g\",g)\n",
    "cv2.waitKey(0)\n",
    "cv2.imshow(\"r\",r)\n",
    "cv2.waitKey(0)"
   ]
  },
  {
   "cell_type": "code",
   "execution_count": 34,
   "id": "ad8071dd",
   "metadata": {},
   "outputs": [
    {
     "data": {
      "text/plain": [
       "True"
      ]
     },
     "execution_count": 34,
     "metadata": {},
     "output_type": "execute_result"
    }
   ],
   "source": [
    "cv2.imwrite(\"C:/Users/aedpu/Gladson-cse/Assignment-1/split1.jpg\",b)\n",
    "cv2.imwrite(\"C:/Users/aedpu/Gladson-cse/Assignment-1/split2.jpg\",g)\n",
    "cv2.imwrite(\"C:/Users/aedpu/Gladson-cse/Assignment-1/split3.jpg\",r)"
   ]
  },
  {
   "cell_type": "code",
   "execution_count": 19,
   "id": "4defe617",
   "metadata": {},
   "outputs": [
    {
     "data": {
      "text/plain": [
       "-1"
      ]
     },
     "execution_count": 19,
     "metadata": {},
     "output_type": "execute_result"
    }
   ],
   "source": [
    "resize=cv2.resize(img,(500,400))\n",
    "cv2.imshow(\"resized image\",resize)\n",
    "cv2.waitKey(0)"
   ]
  },
  {
   "cell_type": "code",
   "execution_count": 20,
   "id": "0cfb98fe",
   "metadata": {},
   "outputs": [
    {
     "data": {
      "text/plain": [
       "True"
      ]
     },
     "execution_count": 20,
     "metadata": {},
     "output_type": "execute_result"
    }
   ],
   "source": [
    "cv2.imwrite(\"C:/Users/aedpu/Gladson-cse/Assignment-1/Resized-image.jpg\",resize)"
   ]
  },
  {
   "cell_type": "markdown",
   "id": "3718a912",
   "metadata": {},
   "source": [
    "#  Region of interest"
   ]
  },
  {
   "cell_type": "code",
   "execution_count": 42,
   "id": "36aaebe9",
   "metadata": {},
   "outputs": [
    {
     "data": {
      "text/plain": [
       "-1"
      ]
     },
     "execution_count": 42,
     "metadata": {},
     "output_type": "execute_result"
    }
   ],
   "source": [
    "roi=img[0:10,0:10]\n",
    "cv2.imshow(\"ROI\",roi)\n",
    "cv2.waitKey(0)"
   ]
  },
  {
   "cell_type": "code",
   "execution_count": 27,
   "id": "f2a081eb",
   "metadata": {},
   "outputs": [
    {
     "data": {
      "text/plain": [
       "True"
      ]
     },
     "execution_count": 27,
     "metadata": {},
     "output_type": "execute_result"
    }
   ],
   "source": [
    "cv2.imwrite(\"C:/Users/aedpu/Gladson-cse/Assignment-1/ROI.jpg\",roi)"
   ]
  },
  {
   "cell_type": "markdown",
   "id": "913c9172",
   "metadata": {},
   "source": [
    "#   Merging"
   ]
  },
  {
   "cell_type": "code",
   "execution_count": 56,
   "id": "97803263",
   "metadata": {},
   "outputs": [
    {
     "data": {
      "text/plain": [
       "-1"
      ]
     },
     "execution_count": 56,
     "metadata": {},
     "output_type": "execute_result"
    }
   ],
   "source": [
    "merge=cv2.merge((r,g,b))\n",
    "cv2.imshow(\"merge\",merge)\n",
    "cv2.waitKey(0)"
   ]
  },
  {
   "cell_type": "code",
   "execution_count": 29,
   "id": "84570859",
   "metadata": {},
   "outputs": [
    {
     "data": {
      "text/plain": [
       "True"
      ]
     },
     "execution_count": 29,
     "metadata": {},
     "output_type": "execute_result"
    }
   ],
   "source": [
    "cv2.imwrite(\"C:/Users/aedpu/Gladson-cse/Assignment-1/Merging.jpg\",merge)"
   ]
  },
  {
   "cell_type": "markdown",
   "id": "a456327f",
   "metadata": {},
   "source": [
    "#   Arithmatic operator"
   ]
  },
  {
   "cell_type": "code",
   "execution_count": 43,
   "id": "a5ddbbdf",
   "metadata": {},
   "outputs": [],
   "source": [
    "img1=cv2.imread(\"1.png\")\n",
    "img2=cv2.imread(\"2.png\")\n",
    "img3=cv2.imread(\"3.png\")"
   ]
  },
  {
   "cell_type": "code",
   "execution_count": 54,
   "id": "207e36a2",
   "metadata": {},
   "outputs": [
    {
     "data": {
      "text/plain": [
       "-1"
      ]
     },
     "execution_count": 54,
     "metadata": {},
     "output_type": "execute_result"
    }
   ],
   "source": [
    "cv2.imshow(\"1\",img1)\n",
    "cv2.waitKey(0)\n",
    "cv2.imshow(\"2\",img2)\n",
    "cv2.waitKey(0)\n",
    "cv2.imshow(\"3\",img3)\n",
    "cv2.waitKey(0)"
   ]
  },
  {
   "cell_type": "code",
   "execution_count": 35,
   "id": "7e35f2bd",
   "metadata": {},
   "outputs": [
    {
     "data": {
      "text/plain": [
       "True"
      ]
     },
     "execution_count": 35,
     "metadata": {},
     "output_type": "execute_result"
    }
   ],
   "source": [
    "cv2.imwrite(\"C:/Users/aedpu/Gladson-cse/Assignment-1/img1.jpg\",img1)\n",
    "cv2.imwrite(\"C:/Users/aedpu/Gladson-cse/Assignment-1/img2.jpg\",img2)\n",
    "cv2.imwrite(\"C:/Users/aedpu/Gladson-cse/Assignment-1/img3.jpg\",img)"
   ]
  },
  {
   "cell_type": "code",
   "execution_count": 55,
   "id": "6f3cd9b9",
   "metadata": {},
   "outputs": [
    {
     "data": {
      "text/plain": [
       "True"
      ]
     },
     "execution_count": 55,
     "metadata": {},
     "output_type": "execute_result"
    }
   ],
   "source": [
    "imAdd=cv2.addWeighted(img1,0.7,img2,0.5,1)\n",
    "\n",
    "cv2.imshow(\"1\",img1)\n",
    "cv2.waitKey(0)\n",
    "cv2.imshow(\"2\",img2)\n",
    "cv2.waitKey(0)\n",
    "cv2.imshow(\"add\",imAdd)\n",
    "cv2.waitKey(0)\n",
    "\n",
    "cv2.imwrite(\"C:/Users/aedpu/Gladson-cse/Assignment-1/Added-image.jpg\",imAdd)"
   ]
  },
  {
   "cell_type": "code",
   "execution_count": 47,
   "id": "c9999705",
   "metadata": {},
   "outputs": [
    {
     "data": {
      "text/plain": [
       "True"
      ]
     },
     "execution_count": 47,
     "metadata": {},
     "output_type": "execute_result"
    }
   ],
   "source": [
    "imsub=cv2.subtract(img1,img2)\n",
    "\n",
    "cv2.imshow(\"1\",img1)\n",
    "cv2.waitKey(0)\n",
    "cv2.imshow(\"2\",img2)\n",
    "cv2.waitKey(0)\n",
    "cv2.imshow(\"sub\",imsub)\n",
    "cv2.waitKey(0)\n",
    "\n",
    "cv2.imwrite(\"C:/Users/aedpu/Gladson-cse/Assignment-1/subtracted-image.jpg\",imsub)"
   ]
  },
  {
   "cell_type": "markdown",
   "id": "24c1c360",
   "metadata": {},
   "source": [
    "#  Image Blurring"
   ]
  },
  {
   "cell_type": "code",
   "execution_count": 64,
   "id": "79aeaf4c",
   "metadata": {},
   "outputs": [
    {
     "data": {
      "text/plain": [
       "True"
      ]
     },
     "execution_count": 64,
     "metadata": {},
     "output_type": "execute_result"
    }
   ],
   "source": [
    "#Average Blur\n",
    "avg=cv2.blur(img,(10,10))   \n",
    "cv2.imshow(\"Blurred-image\",avg)\n",
    "cv2.waitKey(0)\n",
    "\n",
    "cv2.imwrite(\"C:/Users/aedpu/Gladson-cse/Assignment-1/Avg-Blurred-image.jpg\",avg)"
   ]
  },
  {
   "cell_type": "code",
   "execution_count": 68,
   "id": "7d786f53",
   "metadata": {},
   "outputs": [
    {
     "data": {
      "text/plain": [
       "True"
      ]
     },
     "execution_count": 68,
     "metadata": {},
     "output_type": "execute_result"
    }
   ],
   "source": [
    "#Gaussian Blur \n",
    "gauss=cv2.GaussianBlur(img,(5,5),7)\n",
    "cv2.imshow(\"Gauss-Blurred-image\",gauss)\n",
    "cv2.waitKey(0)\n",
    "\n",
    "cv2.imwrite(\"C:/Users/aedpu/Gladson-cse/Assignment-1/Gauss-Blurred-image.jpg\",gauss)"
   ]
  },
  {
   "cell_type": "code",
   "execution_count": 72,
   "id": "9f772fe0",
   "metadata": {},
   "outputs": [
    {
     "data": {
      "text/plain": [
       "True"
      ]
     },
     "execution_count": 72,
     "metadata": {},
     "output_type": "execute_result"
    }
   ],
   "source": [
    "#Median Blur\n",
    "med=cv2.medianBlur(img,7)\n",
    "cv2.imshow(\"Median-Blurred-image\",med)\n",
    "cv2.waitKey(0)\n",
    "\n",
    "cv2.imwrite(\"C:/Users/aedpu/Gladson-cse/Assignment-1/Med-Blurred-image.jpg\",med)"
   ]
  },
  {
   "cell_type": "code",
   "execution_count": 73,
   "id": "390b22cd",
   "metadata": {},
   "outputs": [
    {
     "data": {
      "text/plain": [
       "True"
      ]
     },
     "execution_count": 73,
     "metadata": {},
     "output_type": "execute_result"
    }
   ],
   "source": [
    "#Bilateral Blur\n",
    "bilat= cv2.bilateralFilter(img,60,50,70)\n",
    "cv2.imshow(\"Bilateral-Blurred-image\",bilat)\n",
    "cv2.waitKey(0)\n",
    "\n",
    "cv2.imwrite(\"C:/Users/aedpu/Gladson-cse/Assignment-1/Bilateral-Blurred-image.jpg\",bilat)\n"
   ]
  },
  {
   "cell_type": "code",
   "execution_count": 74,
   "id": "db547063",
   "metadata": {},
   "outputs": [
    {
     "name": "stdout",
     "output_type": "stream",
     "text": [
      "(480, 771, 3)\n",
      "480\n",
      "771\n"
     ]
    }
   ],
   "source": [
    "#Rotation\n",
    "shape=img.shape\n",
    "print(shape)\n",
    "height,width=img.shape[:2]\n",
    "print(height)\n",
    "print(width)"
   ]
  },
  {
   "cell_type": "code",
   "execution_count": 75,
   "id": "a718f3d6",
   "metadata": {},
   "outputs": [
    {
     "name": "stdout",
     "output_type": "stream",
     "text": [
      "(240.0, 385.5)\n"
     ]
    }
   ],
   "source": [
    "\n",
    "center=(height/2,width/2)\n",
    "print(center)"
   ]
  },
  {
   "cell_type": "code",
   "execution_count": 76,
   "id": "d32fc25e",
   "metadata": {},
   "outputs": [
    {
     "name": "stdout",
     "output_type": "stream",
     "text": [
      "[[ 3.061617e-17  5.000000e-01  4.725000e+01]\n",
      " [-5.000000e-01  3.061617e-17  5.055000e+02]]\n"
     ]
    }
   ],
   "source": [
    "rotated_matrix=cv2.getRotationMatrix2D(center=center,angle=90,scale=0.5)\n",
    "print(rotated_matrix)"
   ]
  },
  {
   "cell_type": "code",
   "execution_count": 78,
   "id": "4fb6b934",
   "metadata": {},
   "outputs": [
    {
     "data": {
      "text/plain": [
       "True"
      ]
     },
     "execution_count": 78,
     "metadata": {},
     "output_type": "execute_result"
    }
   ],
   "source": [
    "rotated_image=cv2.warpAffine(src=img,M=rotated_matrix,dsize=(width,height))\n",
    "cv2.imshow(\"original image\",img)\n",
    "cv2.waitKey(0)\n",
    "cv2.imshow(\"Rotated image\",rotated_image)\n",
    "cv2.waitKey(0)\n",
    "\n",
    "cv2.imwrite(\"C:/Users/aedpu/Gladson-cse/Assignment-1/Rotated_image.jpg\",rotated_image)"
   ]
  },
  {
   "cell_type": "markdown",
   "id": "67d2d50f",
   "metadata": {},
   "source": [
    "#  Image Thresholding"
   ]
  },
  {
   "cell_type": "code",
   "execution_count": 2,
   "id": "4184a838",
   "metadata": {},
   "outputs": [],
   "source": [
    "img4=cv2.imread(\"lowlight.jpg\")"
   ]
  },
  {
   "cell_type": "code",
   "execution_count": 3,
   "id": "2a4bac66",
   "metadata": {},
   "outputs": [
    {
     "data": {
      "text/plain": [
       "True"
      ]
     },
     "execution_count": 3,
     "metadata": {},
     "output_type": "execute_result"
    }
   ],
   "source": [
    "cv2.imshow(\"lowlight\",img4)\n",
    "cv2.waitKey(0)\n",
    "\n",
    "cv2.imwrite(\"C:/Users/aedpu/Gladson-cse/Assignment-1/lowlight-original-img.jpg\",img4)"
   ]
  },
  {
   "cell_type": "code",
   "execution_count": 4,
   "id": "6af93d27",
   "metadata": {},
   "outputs": [],
   "source": [
    "igrey=cv2.imread(\"lowlight.jpg\",0)"
   ]
  },
  {
   "cell_type": "code",
   "execution_count": 5,
   "id": "d55dd314",
   "metadata": {},
   "outputs": [
    {
     "data": {
      "text/plain": [
       "-1"
      ]
     },
     "execution_count": 5,
     "metadata": {},
     "output_type": "execute_result"
    }
   ],
   "source": [
    "cv2.imshow(\"lowlight\",igrey)\n",
    "cv2.waitKey(0)"
   ]
  },
  {
   "cell_type": "code",
   "execution_count": 6,
   "id": "8d8bdbff",
   "metadata": {},
   "outputs": [],
   "source": [
    "ret,th1=cv2.threshold(igrey,20,255,cv2.THRESH_BINARY)\n",
    "ath1=cv2.adaptiveThreshold(igrey,255,cv2.ADAPTIVE_THRESH_MEAN_C,cv2.THRESH_BINARY,21,4)\n",
    "ath2=cv2.adaptiveThreshold(igrey,255,cv2.ADAPTIVE_THRESH_GAUSSIAN_C,cv2.THRESH_BINARY,21,4)\n"
   ]
  },
  {
   "cell_type": "code",
   "execution_count": 7,
   "id": "b6be8623",
   "metadata": {},
   "outputs": [
    {
     "data": {
      "text/plain": [
       "-1"
      ]
     },
     "execution_count": 7,
     "metadata": {},
     "output_type": "execute_result"
    }
   ],
   "source": [
    "cv2.imshow(\"ORIGINAL\",igrey)\n",
    "cv2.imshow(\"GLOBAL\",th1)\n",
    "cv2.imshow(\"ADAPTIVE MEAN\",ath1)\n",
    "cv2.imshow(\"ADAPTIVE GAUSSIAN\",ath2)\n",
    "cv2.waitKey(0)"
   ]
  },
  {
   "cell_type": "code",
   "execution_count": 8,
   "id": "671626a7",
   "metadata": {},
   "outputs": [
    {
     "data": {
      "text/plain": [
       "True"
      ]
     },
     "execution_count": 8,
     "metadata": {},
     "output_type": "execute_result"
    }
   ],
   "source": [
    "cv2.imwrite(\"C:/Users/aedpu/Gladson-cse/Assignment-1/lowlight-original-img.jpg\",igrey)\n",
    "cv2.imwrite(\"C:/Users/aedpu/Gladson-cse/Assignment-1/lowlight-original-img.jpg\",th1)\n",
    "cv2.imwrite(\"C:/Users/aedpu/Gladson-cse/Assignment-1/lowlight-original-img.jpg\",ath1)\n",
    "cv2.imwrite(\"C:/Users/aedpu/Gladson-cse/Assignment-1/lowlight-original-img.jpg\",ath2)"
   ]
  },
  {
   "cell_type": "code",
   "execution_count": null,
   "id": "c7640ef3",
   "metadata": {},
   "outputs": [],
   "source": []
  }
 ],
 "metadata": {
  "kernelspec": {
   "display_name": "Python 3 (ipykernel)",
   "language": "python",
   "name": "python3"
  },
  "language_info": {
   "codemirror_mode": {
    "name": "ipython",
    "version": 3
   },
   "file_extension": ".py",
   "mimetype": "text/x-python",
   "name": "python",
   "nbconvert_exporter": "python",
   "pygments_lexer": "ipython3",
   "version": "3.9.16"
  }
 },
 "nbformat": 4,
 "nbformat_minor": 5
}
